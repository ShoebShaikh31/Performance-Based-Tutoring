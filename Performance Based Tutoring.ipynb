{
  "nbformat": 4,
  "nbformat_minor": 0,
  "metadata": {
    "colab": {
      "provenance": [],
      "gpuType": "T4"
    },
    "kernelspec": {
      "name": "python3",
      "display_name": "Python 3"
    },
    "language_info": {
      "name": "python"
    },
    "accelerator": "GPU"
  },
  "cells": [
    {
      "cell_type": "code",
      "source": [
        "import numpy as np\n",
        "import pandas as pd\n",
        "import tensorflow as tf\n",
        "from tensorflow import keras\n",
        "from sklearn.model_selection import train_test_split\n",
        "from sklearn.preprocessing import StandardScaler"
      ],
      "metadata": {
        "id": "Ppb1ZTHS2iUK"
      },
      "execution_count": 53,
      "outputs": []
    },
    {
      "cell_type": "code",
      "source": [
        "# Load your dataset (you should replace 'your_dataset.csv' with the actual dataset file path)\n",
        "data = pd.read_csv('/content/Dataset_ML_Project - Sheet1.csv')"
      ],
      "metadata": {
        "id": "O5Q0aNy_9HmU"
      },
      "execution_count": 54,
      "outputs": []
    },
    {
      "cell_type": "code",
      "source": [
        "min = data.count().min()\n",
        "min"
      ],
      "metadata": {
        "colab": {
          "base_uri": "https://localhost:8080/"
        },
        "id": "BY53aYhUN_Co",
        "outputId": "501227e2-8435-472b-e452-6ab453b53184"
      },
      "execution_count": 55,
      "outputs": [
        {
          "output_type": "execute_result",
          "data": {
            "text/plain": [
              "597"
            ]
          },
          "metadata": {},
          "execution_count": 55
        }
      ]
    },
    {
      "cell_type": "code",
      "source": [
        "# data.dropna().sample(min)\n",
        "data.dropna(inplace=True)"
      ],
      "metadata": {
        "id": "wPTpfdoGMp06"
      },
      "execution_count": 56,
      "outputs": []
    },
    {
      "cell_type": "code",
      "source": [
        "data.count()"
      ],
      "metadata": {
        "colab": {
          "base_uri": "https://localhost:8080/"
        },
        "id": "Go8nCxOkNdII",
        "outputId": "7e7e852e-dbf2-4c47-e4f7-4269baeac6a1"
      },
      "execution_count": 57,
      "outputs": [
        {
          "output_type": "execute_result",
          "data": {
            "text/plain": [
              "maths      597\n",
              "science    597\n",
              "english    597\n",
              "total      597\n",
              "predict    597\n",
              "dtype: int64"
            ]
          },
          "metadata": {},
          "execution_count": 57
        }
      ]
    },
    {
      "cell_type": "code",
      "source": [
        "# input_features = ['maths', 'science', 'english']\n",
        "input_features = ['total']\n",
        "output_label = 'predict'\n",
        "\n",
        "data_x = data[input_features]\n",
        "data_y = data[output_label]\n",
        "\n",
        "# Normalize the input data (scaling to have mean=0 and variance=1)\n",
        "scaler = StandardScaler()\n",
        "data_x = scaler.fit_transform(data_x)\n",
        "\n",
        "# Split the data into training and testing sets\n",
        "x_train, x_test, y_train, y_test = train_test_split(data_x, data_y, test_size=0.2, random_state=42)"
      ],
      "metadata": {
        "id": "Xx3MlSXy2kRi"
      },
      "execution_count": 82,
      "outputs": []
    },
    {
      "cell_type": "code",
      "source": [
        "len(data_y)"
      ],
      "metadata": {
        "colab": {
          "base_uri": "https://localhost:8080/"
        },
        "id": "1BIWuxivMkwp",
        "outputId": "db25c9bf-c75f-441b-efe3-ff8220a9c82a"
      },
      "execution_count": 83,
      "outputs": [
        {
          "output_type": "execute_result",
          "data": {
            "text/plain": [
              "597"
            ]
          },
          "metadata": {},
          "execution_count": 83
        }
      ]
    },
    {
      "cell_type": "code",
      "source": [
        "# Define the neural network model\n",
        "model = keras.Sequential([\n",
        "    keras.layers.Dense(64, activation='relu', input_shape=(1,)),  # Input layer\n",
        "    keras.layers.Dense(32, activation='relu'),  # Hidden layer\n",
        "    keras.layers.Dense(3, activation='softmax')  # Output layer (3 classes for 'predict')\n",
        "])\n"
      ],
      "metadata": {
        "id": "vpVATw2y_WPM"
      },
      "execution_count": 85,
      "outputs": []
    },
    {
      "cell_type": "code",
      "source": [
        "data_y.unique()"
      ],
      "metadata": {
        "colab": {
          "base_uri": "https://localhost:8080/"
        },
        "id": "t2nE2lp3Maao",
        "outputId": "eb5cab74-d27b-484d-b5a6-164062d3c8c2"
      },
      "execution_count": 86,
      "outputs": [
        {
          "output_type": "execute_result",
          "data": {
            "text/plain": [
              "array([2, 0, 1])"
            ]
          },
          "metadata": {},
          "execution_count": 86
        }
      ]
    },
    {
      "cell_type": "code",
      "source": [
        "print(model.input_shape)"
      ],
      "metadata": {
        "colab": {
          "base_uri": "https://localhost:8080/"
        },
        "id": "NUdpT9U4JRcm",
        "outputId": "8358cec9-f8a5-42a2-dcd0-343479152d04"
      },
      "execution_count": 87,
      "outputs": [
        {
          "output_type": "stream",
          "name": "stdout",
          "text": [
            "(None, 1)\n"
          ]
        }
      ]
    },
    {
      "cell_type": "code",
      "source": [
        "print(X_train.shape)"
      ],
      "metadata": {
        "colab": {
          "base_uri": "https://localhost:8080/"
        },
        "id": "VUtD7AW6JS-f",
        "outputId": "1fc54f70-05a4-473f-db1b-d3404a8f2372"
      },
      "execution_count": 88,
      "outputs": [
        {
          "output_type": "stream",
          "name": "stdout",
          "text": [
            "(477, 3)\n"
          ]
        }
      ]
    },
    {
      "cell_type": "code",
      "source": [
        "# Compile the model\n",
        "model.compile(optimizer='adam', loss='sparse_categorical_crossentropy', metrics=['accuracy'])\n",
        "\n",
        "# Train the model\n",
        "history = model.fit(x_train, y_train, epochs=100, batch_size=32, verbose=2)"
      ],
      "metadata": {
        "colab": {
          "base_uri": "https://localhost:8080/"
        },
        "id": "_w9gUY6fJJ1_",
        "outputId": "f161db80-4a48-46a6-831b-f32ead2a18cb"
      },
      "execution_count": 89,
      "outputs": [
        {
          "output_type": "stream",
          "name": "stdout",
          "text": [
            "Epoch 1/100\n",
            "15/15 - 1s - loss: 1.0366 - accuracy: 0.6080 - 1s/epoch - 78ms/step\n",
            "Epoch 2/100\n",
            "15/15 - 0s - loss: 0.8546 - accuracy: 0.7862 - 41ms/epoch - 3ms/step\n",
            "Epoch 3/100\n",
            "15/15 - 0s - loss: 0.7022 - accuracy: 0.7778 - 44ms/epoch - 3ms/step\n",
            "Epoch 4/100\n",
            "15/15 - 0s - loss: 0.5730 - accuracy: 0.7987 - 48ms/epoch - 3ms/step\n",
            "Epoch 5/100\n",
            "15/15 - 0s - loss: 0.4768 - accuracy: 0.8281 - 42ms/epoch - 3ms/step\n",
            "Epoch 6/100\n",
            "15/15 - 0s - loss: 0.3979 - accuracy: 0.8868 - 41ms/epoch - 3ms/step\n",
            "Epoch 7/100\n",
            "15/15 - 0s - loss: 0.3276 - accuracy: 0.9413 - 42ms/epoch - 3ms/step\n",
            "Epoch 8/100\n",
            "15/15 - 0s - loss: 0.2578 - accuracy: 0.9686 - 45ms/epoch - 3ms/step\n",
            "Epoch 9/100\n",
            "15/15 - 0s - loss: 0.1976 - accuracy: 0.9916 - 41ms/epoch - 3ms/step\n",
            "Epoch 10/100\n",
            "15/15 - 0s - loss: 0.1504 - accuracy: 1.0000 - 41ms/epoch - 3ms/step\n",
            "Epoch 11/100\n",
            "15/15 - 0s - loss: 0.1154 - accuracy: 1.0000 - 41ms/epoch - 3ms/step\n",
            "Epoch 12/100\n",
            "15/15 - 0s - loss: 0.0898 - accuracy: 1.0000 - 40ms/epoch - 3ms/step\n",
            "Epoch 13/100\n",
            "15/15 - 0s - loss: 0.0730 - accuracy: 1.0000 - 42ms/epoch - 3ms/step\n",
            "Epoch 14/100\n",
            "15/15 - 0s - loss: 0.0608 - accuracy: 0.9979 - 45ms/epoch - 3ms/step\n",
            "Epoch 15/100\n",
            "15/15 - 0s - loss: 0.0517 - accuracy: 1.0000 - 43ms/epoch - 3ms/step\n",
            "Epoch 16/100\n",
            "15/15 - 0s - loss: 0.0451 - accuracy: 0.9979 - 48ms/epoch - 3ms/step\n",
            "Epoch 17/100\n",
            "15/15 - 0s - loss: 0.0396 - accuracy: 0.9979 - 42ms/epoch - 3ms/step\n",
            "Epoch 18/100\n",
            "15/15 - 0s - loss: 0.0355 - accuracy: 1.0000 - 40ms/epoch - 3ms/step\n",
            "Epoch 19/100\n",
            "15/15 - 0s - loss: 0.0320 - accuracy: 1.0000 - 40ms/epoch - 3ms/step\n",
            "Epoch 20/100\n",
            "15/15 - 0s - loss: 0.0293 - accuracy: 0.9979 - 41ms/epoch - 3ms/step\n",
            "Epoch 21/100\n",
            "15/15 - 0s - loss: 0.0269 - accuracy: 0.9979 - 39ms/epoch - 3ms/step\n",
            "Epoch 22/100\n",
            "15/15 - 0s - loss: 0.0248 - accuracy: 1.0000 - 41ms/epoch - 3ms/step\n",
            "Epoch 23/100\n",
            "15/15 - 0s - loss: 0.0234 - accuracy: 1.0000 - 41ms/epoch - 3ms/step\n",
            "Epoch 24/100\n",
            "15/15 - 0s - loss: 0.0221 - accuracy: 0.9979 - 42ms/epoch - 3ms/step\n",
            "Epoch 25/100\n",
            "15/15 - 0s - loss: 0.0203 - accuracy: 1.0000 - 40ms/epoch - 3ms/step\n",
            "Epoch 26/100\n",
            "15/15 - 0s - loss: 0.0195 - accuracy: 1.0000 - 41ms/epoch - 3ms/step\n",
            "Epoch 27/100\n",
            "15/15 - 0s - loss: 0.0181 - accuracy: 1.0000 - 48ms/epoch - 3ms/step\n",
            "Epoch 28/100\n",
            "15/15 - 0s - loss: 0.0175 - accuracy: 0.9979 - 44ms/epoch - 3ms/step\n",
            "Epoch 29/100\n",
            "15/15 - 0s - loss: 0.0164 - accuracy: 1.0000 - 40ms/epoch - 3ms/step\n",
            "Epoch 30/100\n",
            "15/15 - 0s - loss: 0.0156 - accuracy: 1.0000 - 49ms/epoch - 3ms/step\n",
            "Epoch 31/100\n",
            "15/15 - 0s - loss: 0.0150 - accuracy: 1.0000 - 43ms/epoch - 3ms/step\n",
            "Epoch 32/100\n",
            "15/15 - 0s - loss: 0.0146 - accuracy: 1.0000 - 60ms/epoch - 4ms/step\n",
            "Epoch 33/100\n",
            "15/15 - 0s - loss: 0.0138 - accuracy: 1.0000 - 48ms/epoch - 3ms/step\n",
            "Epoch 34/100\n",
            "15/15 - 0s - loss: 0.0137 - accuracy: 0.9979 - 45ms/epoch - 3ms/step\n",
            "Epoch 35/100\n",
            "15/15 - 0s - loss: 0.0132 - accuracy: 1.0000 - 42ms/epoch - 3ms/step\n",
            "Epoch 36/100\n",
            "15/15 - 0s - loss: 0.0126 - accuracy: 1.0000 - 42ms/epoch - 3ms/step\n",
            "Epoch 37/100\n",
            "15/15 - 0s - loss: 0.0121 - accuracy: 1.0000 - 39ms/epoch - 3ms/step\n",
            "Epoch 38/100\n",
            "15/15 - 0s - loss: 0.0117 - accuracy: 1.0000 - 41ms/epoch - 3ms/step\n",
            "Epoch 39/100\n",
            "15/15 - 0s - loss: 0.0112 - accuracy: 1.0000 - 41ms/epoch - 3ms/step\n",
            "Epoch 40/100\n",
            "15/15 - 0s - loss: 0.0109 - accuracy: 1.0000 - 51ms/epoch - 3ms/step\n",
            "Epoch 41/100\n",
            "15/15 - 0s - loss: 0.0107 - accuracy: 1.0000 - 41ms/epoch - 3ms/step\n",
            "Epoch 42/100\n",
            "15/15 - 0s - loss: 0.0105 - accuracy: 1.0000 - 38ms/epoch - 3ms/step\n",
            "Epoch 43/100\n",
            "15/15 - 0s - loss: 0.0103 - accuracy: 1.0000 - 42ms/epoch - 3ms/step\n",
            "Epoch 44/100\n",
            "15/15 - 0s - loss: 0.0097 - accuracy: 1.0000 - 41ms/epoch - 3ms/step\n",
            "Epoch 45/100\n",
            "15/15 - 0s - loss: 0.0097 - accuracy: 1.0000 - 41ms/epoch - 3ms/step\n",
            "Epoch 46/100\n",
            "15/15 - 0s - loss: 0.0094 - accuracy: 1.0000 - 41ms/epoch - 3ms/step\n",
            "Epoch 47/100\n",
            "15/15 - 0s - loss: 0.0090 - accuracy: 1.0000 - 39ms/epoch - 3ms/step\n",
            "Epoch 48/100\n",
            "15/15 - 0s - loss: 0.0089 - accuracy: 1.0000 - 42ms/epoch - 3ms/step\n",
            "Epoch 49/100\n",
            "15/15 - 0s - loss: 0.0089 - accuracy: 1.0000 - 43ms/epoch - 3ms/step\n",
            "Epoch 50/100\n",
            "15/15 - 0s - loss: 0.0086 - accuracy: 1.0000 - 40ms/epoch - 3ms/step\n",
            "Epoch 51/100\n",
            "15/15 - 0s - loss: 0.0084 - accuracy: 1.0000 - 49ms/epoch - 3ms/step\n",
            "Epoch 52/100\n",
            "15/15 - 0s - loss: 0.0087 - accuracy: 1.0000 - 41ms/epoch - 3ms/step\n",
            "Epoch 53/100\n",
            "15/15 - 0s - loss: 0.0078 - accuracy: 1.0000 - 41ms/epoch - 3ms/step\n",
            "Epoch 54/100\n",
            "15/15 - 0s - loss: 0.0078 - accuracy: 1.0000 - 46ms/epoch - 3ms/step\n",
            "Epoch 55/100\n",
            "15/15 - 0s - loss: 0.0080 - accuracy: 1.0000 - 61ms/epoch - 4ms/step\n",
            "Epoch 56/100\n",
            "15/15 - 0s - loss: 0.0073 - accuracy: 1.0000 - 43ms/epoch - 3ms/step\n",
            "Epoch 57/100\n",
            "15/15 - 0s - loss: 0.0073 - accuracy: 1.0000 - 42ms/epoch - 3ms/step\n",
            "Epoch 58/100\n",
            "15/15 - 0s - loss: 0.0072 - accuracy: 1.0000 - 42ms/epoch - 3ms/step\n",
            "Epoch 59/100\n",
            "15/15 - 0s - loss: 0.0077 - accuracy: 0.9979 - 42ms/epoch - 3ms/step\n",
            "Epoch 60/100\n",
            "15/15 - 0s - loss: 0.0071 - accuracy: 1.0000 - 43ms/epoch - 3ms/step\n",
            "Epoch 61/100\n",
            "15/15 - 0s - loss: 0.0067 - accuracy: 1.0000 - 40ms/epoch - 3ms/step\n",
            "Epoch 62/100\n",
            "15/15 - 0s - loss: 0.0066 - accuracy: 1.0000 - 39ms/epoch - 3ms/step\n",
            "Epoch 63/100\n",
            "15/15 - 0s - loss: 0.0065 - accuracy: 1.0000 - 42ms/epoch - 3ms/step\n",
            "Epoch 64/100\n",
            "15/15 - 0s - loss: 0.0064 - accuracy: 1.0000 - 42ms/epoch - 3ms/step\n",
            "Epoch 65/100\n",
            "15/15 - 0s - loss: 0.0063 - accuracy: 1.0000 - 42ms/epoch - 3ms/step\n",
            "Epoch 66/100\n",
            "15/15 - 0s - loss: 0.0062 - accuracy: 1.0000 - 42ms/epoch - 3ms/step\n",
            "Epoch 67/100\n",
            "15/15 - 0s - loss: 0.0060 - accuracy: 1.0000 - 53ms/epoch - 4ms/step\n",
            "Epoch 68/100\n",
            "15/15 - 0s - loss: 0.0064 - accuracy: 1.0000 - 40ms/epoch - 3ms/step\n",
            "Epoch 69/100\n",
            "15/15 - 0s - loss: 0.0061 - accuracy: 1.0000 - 42ms/epoch - 3ms/step\n",
            "Epoch 70/100\n",
            "15/15 - 0s - loss: 0.0057 - accuracy: 1.0000 - 43ms/epoch - 3ms/step\n",
            "Epoch 71/100\n",
            "15/15 - 0s - loss: 0.0056 - accuracy: 1.0000 - 53ms/epoch - 4ms/step\n",
            "Epoch 72/100\n",
            "15/15 - 0s - loss: 0.0055 - accuracy: 1.0000 - 46ms/epoch - 3ms/step\n",
            "Epoch 73/100\n",
            "15/15 - 0s - loss: 0.0056 - accuracy: 1.0000 - 42ms/epoch - 3ms/step\n",
            "Epoch 74/100\n",
            "15/15 - 0s - loss: 0.0057 - accuracy: 1.0000 - 40ms/epoch - 3ms/step\n",
            "Epoch 75/100\n",
            "15/15 - 0s - loss: 0.0053 - accuracy: 1.0000 - 40ms/epoch - 3ms/step\n",
            "Epoch 76/100\n",
            "15/15 - 0s - loss: 0.0052 - accuracy: 1.0000 - 41ms/epoch - 3ms/step\n",
            "Epoch 77/100\n",
            "15/15 - 0s - loss: 0.0055 - accuracy: 1.0000 - 38ms/epoch - 3ms/step\n",
            "Epoch 78/100\n",
            "15/15 - 0s - loss: 0.0055 - accuracy: 1.0000 - 40ms/epoch - 3ms/step\n",
            "Epoch 79/100\n",
            "15/15 - 0s - loss: 0.0066 - accuracy: 1.0000 - 39ms/epoch - 3ms/step\n",
            "Epoch 80/100\n",
            "15/15 - 0s - loss: 0.0055 - accuracy: 1.0000 - 44ms/epoch - 3ms/step\n",
            "Epoch 81/100\n",
            "15/15 - 0s - loss: 0.0050 - accuracy: 1.0000 - 40ms/epoch - 3ms/step\n",
            "Epoch 82/100\n",
            "15/15 - 0s - loss: 0.0050 - accuracy: 1.0000 - 44ms/epoch - 3ms/step\n",
            "Epoch 83/100\n",
            "15/15 - 0s - loss: 0.0048 - accuracy: 1.0000 - 40ms/epoch - 3ms/step\n",
            "Epoch 84/100\n",
            "15/15 - 0s - loss: 0.0048 - accuracy: 1.0000 - 39ms/epoch - 3ms/step\n",
            "Epoch 85/100\n",
            "15/15 - 0s - loss: 0.0046 - accuracy: 1.0000 - 44ms/epoch - 3ms/step\n",
            "Epoch 86/100\n",
            "15/15 - 0s - loss: 0.0045 - accuracy: 1.0000 - 39ms/epoch - 3ms/step\n",
            "Epoch 87/100\n",
            "15/15 - 0s - loss: 0.0045 - accuracy: 1.0000 - 41ms/epoch - 3ms/step\n",
            "Epoch 88/100\n",
            "15/15 - 0s - loss: 0.0044 - accuracy: 1.0000 - 51ms/epoch - 3ms/step\n",
            "Epoch 89/100\n",
            "15/15 - 0s - loss: 0.0044 - accuracy: 1.0000 - 41ms/epoch - 3ms/step\n",
            "Epoch 90/100\n",
            "15/15 - 0s - loss: 0.0045 - accuracy: 1.0000 - 41ms/epoch - 3ms/step\n",
            "Epoch 91/100\n",
            "15/15 - 0s - loss: 0.0043 - accuracy: 1.0000 - 39ms/epoch - 3ms/step\n",
            "Epoch 92/100\n",
            "15/15 - 0s - loss: 0.0042 - accuracy: 1.0000 - 39ms/epoch - 3ms/step\n",
            "Epoch 93/100\n",
            "15/15 - 0s - loss: 0.0041 - accuracy: 1.0000 - 49ms/epoch - 3ms/step\n",
            "Epoch 94/100\n",
            "15/15 - 0s - loss: 0.0042 - accuracy: 1.0000 - 43ms/epoch - 3ms/step\n",
            "Epoch 95/100\n",
            "15/15 - 0s - loss: 0.0040 - accuracy: 1.0000 - 41ms/epoch - 3ms/step\n",
            "Epoch 96/100\n",
            "15/15 - 0s - loss: 0.0040 - accuracy: 1.0000 - 40ms/epoch - 3ms/step\n",
            "Epoch 97/100\n",
            "15/15 - 0s - loss: 0.0040 - accuracy: 1.0000 - 41ms/epoch - 3ms/step\n",
            "Epoch 98/100\n",
            "15/15 - 0s - loss: 0.0041 - accuracy: 1.0000 - 41ms/epoch - 3ms/step\n",
            "Epoch 99/100\n",
            "15/15 - 0s - loss: 0.0037 - accuracy: 1.0000 - 47ms/epoch - 3ms/step\n",
            "Epoch 100/100\n",
            "15/15 - 0s - loss: 0.0039 - accuracy: 1.0000 - 42ms/epoch - 3ms/step\n"
          ]
        }
      ]
    },
    {
      "cell_type": "code",
      "source": [
        "from sklearn.metrics import confusion_matrix, classification_report, accuracy_score\n",
        "import matplotlib.pyplot as plt"
      ],
      "metadata": {
        "id": "2Unv6K92PDjB"
      },
      "execution_count": 90,
      "outputs": []
    },
    {
      "cell_type": "code",
      "source": [
        "# Generate predictions\n",
        "y_pred = model.predict(x_test)\n",
        "y_pred_classes = np.argmax(y_pred, axis=-1)\n",
        "\n",
        "# Generate a confusion matrix\n",
        "confusion = confusion_matrix(y_test, y_pred_classes)\n",
        "\n",
        "# Generate a classification report\n",
        "class_report = classification_report(y_test, y_pred_classes)\n",
        "\n",
        "# Calculate the accuracy score\n",
        "accuracy = accuracy_score(y_test, y_pred_classes)\n",
        "\n",
        "# Print confusion matrix, classification report, and accuracy\n",
        "print(\"Confusion Matrix:\\n\", confusion)\n",
        "print(\"\\nClassification Report:\\n\", class_report)\n",
        "print(\"\\nAccuracy Score:\", accuracy)"
      ],
      "metadata": {
        "colab": {
          "base_uri": "https://localhost:8080/"
        },
        "id": "3W26NiUSQBoK",
        "outputId": "e97bc188-4f64-4075-9a7e-837d33d3c648"
      },
      "execution_count": 91,
      "outputs": [
        {
          "output_type": "stream",
          "name": "stdout",
          "text": [
            "4/4 [==============================] - 0s 3ms/step\n",
            "Confusion Matrix:\n",
            " [[44  0  0]\n",
            " [ 0 34  0]\n",
            " [ 0  0 42]]\n",
            "\n",
            "Classification Report:\n",
            "               precision    recall  f1-score   support\n",
            "\n",
            "           0       1.00      1.00      1.00        44\n",
            "           1       1.00      1.00      1.00        34\n",
            "           2       1.00      1.00      1.00        42\n",
            "\n",
            "    accuracy                           1.00       120\n",
            "   macro avg       1.00      1.00      1.00       120\n",
            "weighted avg       1.00      1.00      1.00       120\n",
            "\n",
            "\n",
            "Accuracy Score: 1.0\n"
          ]
        }
      ]
    },
    {
      "cell_type": "code",
      "source": [
        "#  Plot training loss and accuracy over epochs\n",
        "plt.figure(figsize=(12, 4))\n",
        "plt.subplot(1, 2, 1)\n",
        "plt.plot(history.history['loss'], label='Training Loss')\n",
        "plt.xlabel('Epochs')\n",
        "plt.ylabel('Loss')\n",
        "plt.legend()\n",
        "\n",
        "plt.subplot(1, 2, 2)\n",
        "plt.plot(history.history['accuracy'], label='Training Accuracy')\n",
        "plt.xlabel('Epochs')\n",
        "plt.ylabel('Accuracy')\n",
        "plt.legend()\n",
        "\n",
        "plt.show()"
      ],
      "metadata": {
        "colab": {
          "base_uri": "https://localhost:8080/",
          "height": 388
        },
        "id": "IEVoSzR0QFi_",
        "outputId": "d3f376c0-0750-45df-a2aa-8f76d91ad62f"
      },
      "execution_count": 92,
      "outputs": [
        {
          "output_type": "display_data",
          "data": {
            "text/plain": [
              "<Figure size 1200x400 with 2 Axes>"
            ],
            "image/png": "[encoded data removed]"
          },
          "metadata": {}
        }
      ]
    },
    {
      "cell_type": "markdown",
      "source": [
        "# Machine Learning Algorithm"
      ],
      "metadata": {
        "id": "JHKeEk4YRAL_"
      }
    },
    {
      "cell_type": "code",
      "source": [
        "import pandas as pd\n",
        "from sklearn.model_selection import train_test_split\n",
        "from sklearn.ensemble import RandomForestClassifier\n",
        "from sklearn.metrics import accuracy_score, classification_report, confusion_matrix\n",
        "\n",
        "# Load your CSV file into a DataFrame\n",
        "data = pd.read_csv('/content/Dataset_ML_Project - Sheet1.csv')\n",
        "\n",
        "data.dropna(inplace=True)\n",
        "\n",
        "# Define input features and output label\n",
        "input_features = ['maths', 'science', 'english']\n",
        "output_label = 'predict'\n",
        "\n",
        "X = data[input_features]\n",
        "y = data[output_label]\n",
        "\n",
        "# Split the data into training and testing sets\n",
        "X_train, X_test, y_train, y_test = train_test_split(X, y, test_size=0.2, random_state=20)\n",
        "\n",
        "# Create and train a Random Forest classifier\n",
        "clf = RandomForestClassifier(n_estimators=100, random_state=42)\n",
        "clf.fit(X_train, y_train)\n",
        "\n",
        "# Make predictions\n",
        "y_pred = clf.predict(X_test)\n",
        "\n",
        "# Evaluate the model\n",
        "accuracy = accuracy_score(y_test, y_pred)\n",
        "confusion = confusion_matrix(y_test, y_pred)\n",
        "report = classification_report(y_test, y_pred)\n",
        "\n",
        "# Print evaluation results\n",
        "print(\"Accuracy:\", accuracy)\n",
        "print(\"\\nConfusion Matrix:\\n\", confusion)\n",
        "print(\"\\nClassification Report:\\n\", report)\n"
      ],
      "metadata": {
        "colab": {
          "base_uri": "https://localhost:8080/"
        },
        "id": "Q-Ny4FYMRAK7",
        "outputId": "f946029b-7ede-493a-b262-8503d6bc7516"
      },
      "execution_count": 93,
      "outputs": [
        {
          "output_type": "stream",
          "name": "stdout",
          "text": [
            "Accuracy: 1.0\n",
            "\n",
            "Confusion Matrix:\n",
            " [[35  0  0]\n",
            " [ 0 34  0]\n",
            " [ 0  0 51]]\n",
            "\n",
            "Classification Report:\n",
            "               precision    recall  f1-score   support\n",
            "\n",
            "           0       1.00      1.00      1.00        35\n",
            "           1       1.00      1.00      1.00        34\n",
            "           2       1.00      1.00      1.00        51\n",
            "\n",
            "    accuracy                           1.00       120\n",
            "   macro avg       1.00      1.00      1.00       120\n",
            "weighted avg       1.00      1.00      1.00       120\n",
            "\n"
          ]
        }
      ]
    },
    {
      "cell_type": "code",
      "source": [
        "from sklearn.tree import DecisionTreeClassifier\n",
        "\n",
        "# Create and train a Random Forest classifier\n",
        "clf = DecisionTreeClassifier(max_depth=5, random_state=42)\n",
        "clf.fit(X_train, y_train)\n",
        "\n",
        "# Make predictions\n",
        "y_pred = clf.predict(X_test)\n",
        "\n",
        "# Evaluate the model\n",
        "accuracy = accuracy_score(y_test, y_pred)\n",
        "confusion = confusion_matrix(y_test, y_pred)\n",
        "report = classification_report(y_test, y_pred)\n",
        "\n",
        "# Print evaluation results\n",
        "print(\"Accuracy:\", accuracy)\n",
        "print(\"\\nConfusion Matrix:\\n\", confusion)\n",
        "print(\"\\nClassification Report:\\n\", report)"
      ],
      "metadata": {
        "colab": {
          "base_uri": "https://localhost:8080/"
        },
        "id": "-cNw3pSwRAFe",
        "outputId": "f911f961-bad9-45c6-d093-ed7ea873ed5c"
      },
      "execution_count": 94,
      "outputs": [
        {
          "output_type": "stream",
          "name": "stdout",
          "text": [
            "Accuracy: 0.9916666666666667\n",
            "\n",
            "Confusion Matrix:\n",
            " [[34  1  0]\n",
            " [ 0 34  0]\n",
            " [ 0  0 51]]\n",
            "\n",
            "Classification Report:\n",
            "               precision    recall  f1-score   support\n",
            "\n",
            "           0       1.00      0.97      0.99        35\n",
            "           1       0.97      1.00      0.99        34\n",
            "           2       1.00      1.00      1.00        51\n",
            "\n",
            "    accuracy                           0.99       120\n",
            "   macro avg       0.99      0.99      0.99       120\n",
            "weighted avg       0.99      0.99      0.99       120\n",
            "\n"
          ]
        }
      ]
    },
    {
      "cell_type": "code",
      "source": [
        "import seaborn as sns\n",
        "# Calculate the correlation matrix\n",
        "corr_matrix = data.corr()\n",
        "\n",
        "# Create a heatmap\n",
        "plt.figure(figsize=(10, 8))\n",
        "sns.heatmap(corr_matrix, annot=True, cmap='coolwarm', linewidths=0.5)\n",
        "plt.title('Correlation Heatmap')\n",
        "plt.show()"
      ],
      "metadata": {
        "colab": {
          "base_uri": "https://localhost:8080/",
          "height": 699
        },
        "id": "jkqnZqujRADB",
        "outputId": "ae58a468-d017-46e9-d22e-f12d98065d4a"
      },
      "execution_count": 70,
      "outputs": [
        {
          "output_type": "display_data",
          "data": {
            "text/plain": [
              "<Figure size 1000x800 with 2 Axes>"
            ],
            "image/png": "[encoded data removed]"
          },
          "metadata": {}
        }
      ]
    },
    {
      "cell_type": "code",
      "source": [
        "# import joblib\n",
        "\n",
        "# # Assuming 'clf' is your trained Decision Tree classifier\n",
        "# joblib.dump(clf, 'decision_tree_model.pkl')"
      ],
      "metadata": {
        "id": "rgDm3_IHTmcE"
      },
      "execution_count": 71,
      "outputs": []
    },
    {
      "cell_type": "code",
      "source": [
        "# # Collect input values from the user\n",
        "# input_maths = float(input(\"Enter maths score: \"))\n",
        "# input_science = float(input(\"Enter science score: \"))\n",
        "# input_english = float(input(\"Enter english score: \"))\n",
        "\n",
        "# # Calculate the total\n",
        "# total = input_maths + input_science + input_english\n",
        "\n",
        "# # Create an input array\n",
        "# input_data = np.array([[input_maths, input_science, input_english]])\n",
        "\n",
        "# # Load the scaler used during training\n",
        "# scaler = StandardScaler()\n",
        "# scaler.fit(data[input_features])\n",
        "\n",
        "# # Normalize the input data\n",
        "# input_data = scaler.transform(input_data)\n",
        "\n",
        "# # Load your trained model\n",
        "# model = joblib.load('/content/decision_tree_model.pkl')\n",
        "\n",
        "# # Make predictions\n",
        "# predicted_class = model.predict(input_data)\n",
        "\n",
        "# # Display the total, percentage, and predicted class\n",
        "# print(\"Total Score:\", total)\n",
        "# percentage = total / (100 * len(input_features))\n",
        "# print(\"Percentage:\", percentage * 100, \"%\")\n",
        "# print(\"Predicted Class:\", predicted_class[0])"
      ],
      "metadata": {
        "id": "h52E0OK_RAAh"
      },
      "execution_count": 72,
      "outputs": []
    },
    {
      "cell_type": "code",
      "source": [
        "import pandas as pd\n",
        "\n",
        "# Collect the input data for testing\n",
        "new_data = pd.DataFrame({'maths': [85, 90, 78], 'science': [92, 88, 75], 'english': [88, 80, 85]})\n",
        "\n",
        "# Use the trained Random Forest classifier to make predictions\n",
        "new_predictions = clf.predict(new_data)\n",
        "\n",
        "# # Interpret the predictions\n",
        "# for i, prediction in enumerate(new_predictions):\n",
        "#     if prediction == 1:\n",
        "#         print(f\"Data point {i+1}: The model predicts 'Yes'\")\n",
        "#     else:\n",
        "#         print(f\"Data point {i+1}: The model predicts 'No'\")\n",
        "\n",
        "print(prediction)\n"
      ],
      "metadata": {
        "colab": {
          "base_uri": "https://localhost:8080/"
        },
        "id": "nmSZl0U3CC0m",
        "outputId": "ace5425d-0422-4f43-828e-123549b36fb2"
      },
      "execution_count": 104,
      "outputs": [
        {
          "output_type": "stream",
          "name": "stdout",
          "text": [
            "2\n"
          ]
        }
      ]
    },
    {
      "cell_type": "code",
      "source": [
        "import pandas as pd\n",
        "\n",
        "# Collect the input data for testing\n",
        "new_data = pd.DataFrame({'maths': [85, 90, 78], 'science': [92, 88, 75], 'english': [88, 80, 85]})\n",
        "\n",
        "# Use the trained Random Forest classifier to make predictions\n",
        "new_predictions = clf.predict(new_data)\n",
        "\n",
        "# Interpret the predictions\n",
        "for i, prediction in enumerate(new_predictions):\n",
        "    if prediction == 1:\n",
        "        print(f\"Data point {i+1}: The model predicts 'Yes'\")\n",
        "    else:\n",
        "        print(f\"Data point {i+1}: The model predicts 'No'\")"
      ],
      "metadata": {
        "colab": {
          "base_uri": "https://localhost:8080/"
        },
        "id": "MDMK5HvAEeD7",
        "outputId": "518c3cad-2246-4e17-b463-602e83137bf2"
      },
      "execution_count": 77,
      "outputs": [
        {
          "output_type": "stream",
          "name": "stdout",
          "text": [
            "Data point 1: The model predicts 'No'\n",
            "Data point 2: The model predicts 'No'\n",
            "Data point 3: The model predicts 'No'\n"
          ]
        }
      ]
    },
    {
      "cell_type": "code",
      "source": [
        "import joblib\n",
        "\n",
        "# Save the trained model to a file\n",
        "model_filename = 'random_forest_model.pkl'\n",
        "joblib.dump(clf, model_filename)\n"
      ],
      "metadata": {
        "colab": {
          "base_uri": "https://localhost:8080/"
        },
        "id": "bgoQcmf2E4cf",
        "outputId": "bdb9489b-2472-49d2-970d-59e743a9a83a"
      },
      "execution_count": 74,
      "outputs": [
        {
          "output_type": "execute_result",
          "data": {
            "text/plain": [
              "['random_forest_model.pkl']"
            ]
          },
          "metadata": {},
          "execution_count": 74
        }
      ]
    },
    {
      "cell_type": "code",
      "source": [
        "import pandas as pd\n",
        "import joblib\n",
        "\n",
        "# Load the saved model\n",
        "loaded_model = joblib.load('random_forest_model.pkl')\n",
        "\n",
        "# Collect the input data for testing\n",
        "new_data = pd.DataFrame({'maths': [0, 90, 78], 'science': [0, 88, 75], 'english': [0, 80, 85]})\n",
        "\n",
        "# Use the loaded model to make predictions\n",
        "new_predictions = loaded_model.predict(new_data)\n",
        "\n",
        "# Interpret the predictions\n",
        "for i, prediction in enumerate(new_predictions):\n",
        "    if prediction == 1:\n",
        "        print(f\"Data point {i+1}: The model predicts 'Yes'\")\n",
        "    else:\n",
        "        print(f\"Data point {i+1}: The model predicts 'No'\")\n",
        "print(new_predictions)"
      ],
      "metadata": {
        "colab": {
          "base_uri": "https://localhost:8080/"
        },
        "id": "OdCfxybdE4Wm",
        "outputId": "1ab148b6-9cae-4fab-ecb6-09bc9d96cf75"
      },
      "execution_count": 81,
      "outputs": [
        {
          "output_type": "stream",
          "name": "stdout",
          "text": [
            "Data point 1: The model predicts 'No'\n",
            "Data point 2: The model predicts 'No'\n",
            "Data point 3: The model predicts 'No'\n",
            "[0 2 2]\n"
          ]
        }
      ]
    }
  ]
}